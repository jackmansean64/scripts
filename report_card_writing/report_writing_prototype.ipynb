{
 "cells": [
  {
   "cell_type": "code",
   "id": "initial_id",
   "metadata": {
    "collapsed": true,
    "ExecuteTime": {
     "end_time": "2024-12-07T18:29:46.512461Z",
     "start_time": "2024-12-07T18:29:46.506501Z"
    }
   },
   "source": [
    "from toolkit.language_models.model_connection import ChatModelsSetup\n",
    "from langchain_core.prompts import PromptTemplate\n",
    "from pydantic import BaseModel\n",
    "\n",
    "\n",
    "class Comments(BaseModel):\n",
    "    student_id: str\n",
    "    comments: str\n",
    "\n",
    "\n",
    "template = \"\"\"\n",
    "Human: You are an expert elementary report card writing assistant. \n",
    "You will arrange my assessment notes for my students into clear opening comments using simple, parent-friendly language.  \n",
    "\n",
    "Here are a few of my favourite examples of opening comments I've written in the past. Your opening comments should follow a similar structure, tone, and voice.\n",
    "{examples}\n",
    "\n",
    "Here is the student's ID:\n",
    "{id} \n",
    "\n",
    "Here are my rough notes for the student: \n",
    "{notes}\n",
    "\n",
    "Please output the opening comments using the following JSON structure:\n",
    "{structure}\n",
    "\n",
    "Please output the JSON data enclosed with no additional text, preamble, separators, or extra characters.\n",
    "Assistant:\n",
    "\"\"\"\n",
    "\n",
    "prompt_template = PromptTemplate.from_template(template)\n",
    "\n",
    "formatted_prompt = prompt_template.format(\n",
    "    examples=\"\",\n",
    "    id=\"\",\n",
    "    notes=\"\",\n",
    "    structure=Comments.model_json_schema()\n",
    ")\n",
    "\n",
    "chat_models = ChatModelsSetup()\n",
    "response = chat_models.claude_35_v2_sonnet_chat.invoke(formatted_prompt)\n",
    "opening_comments = Comments.model_validate_json(response)\n"
   ],
   "outputs": [
    {
     "ename": "SyntaxError",
     "evalue": "incomplete input (3824916895.py, line 1)",
     "output_type": "error",
     "traceback": [
      "\u001B[1;36m  Cell \u001B[1;32mIn[1], line 1\u001B[1;36m\u001B[0m\n\u001B[1;33m    \"\"\"\u001B[0m\n\u001B[1;37m    ^\u001B[0m\n\u001B[1;31mSyntaxError\u001B[0m\u001B[1;31m:\u001B[0m incomplete input\n"
     ]
    }
   ],
   "execution_count": 1
  },
  {
   "metadata": {},
   "cell_type": "code",
   "outputs": [],
   "execution_count": null,
   "source": [
    "from toolkit.language_models.model_connection import ChatModelsSetup\n",
    "from langchain_core.prompts import PromptTemplate\n",
    "\n",
    "\n",
    "template = \"\"\"\n",
    "Human: You are an expert elementary report card writing assistant. \n",
    "You will format my written report card comments into the specific formatting required for entry into the reporting software. \n",
    "\n",
    "Here is the example of the exact format the comments must align with:\n",
    "{format}\n",
    "\n",
    "Here is the student's ID:\n",
    "{id} \n",
    "\n",
    "Here are my comments for the student: \n",
    "{comments}\n",
    "\n",
    "Please output the opening comments using the following JSON structure:\n",
    "{structure}\n",
    "\n",
    "Please output the JSON data enclosed with no additional text, preamble, separators, or extra characters.\n",
    "Assistant:\n",
    "\"\"\"\n",
    "\n",
    "prompt_template = PromptTemplate.from_template(template)\n",
    "\n",
    "formatted_prompt = prompt_template.format(\n",
    "    format=\"\",\n",
    "    id=\"\",\n",
    "    comments=\"\",\n",
    "    structure=Comments.model_json_schema()\n",
    ")\n",
    "\n",
    "chat_models = ChatModelsSetup()\n",
    "response = chat_models.claude_35_v2_sonnet_chat.invoke(formatted_prompt)\n",
    "formatted_comments = Comments.model_validate_json(response)\n"
   ],
   "id": "9b81997c4766b397"
  }
 ],
 "metadata": {
  "kernelspec": {
   "display_name": "Python 3",
   "language": "python",
   "name": "python3"
  },
  "language_info": {
   "codemirror_mode": {
    "name": "ipython",
    "version": 2
   },
   "file_extension": ".py",
   "mimetype": "text/x-python",
   "name": "python",
   "nbconvert_exporter": "python",
   "pygments_lexer": "ipython2",
   "version": "2.7.6"
  }
 },
 "nbformat": 4,
 "nbformat_minor": 5
}
