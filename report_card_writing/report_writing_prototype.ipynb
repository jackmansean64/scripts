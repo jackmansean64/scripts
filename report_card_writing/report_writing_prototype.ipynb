{
 "cells": [
  {
   "cell_type": "code",
   "id": "4a88e31a9767a74d",
   "metadata": {
    "ExecuteTime": {
     "end_time": "2024-12-09T05:05:06.408740Z",
     "start_time": "2024-12-09T05:05:06.397569Z"
    }
   },
   "source": [
    "comment_examples = \"\"\"\n",
    "Name\n",
    "Comment\n",
    "<student>\n",
    "<student> has had a great start to her school year. <student> is a kind, respectful, and thoughtful student who has made good academic progress this term. <student> has good work habits including asking for help when she needs it and staying on task. <student> has established friendly relationships with her classmates and works well with everyone. In the next term <student> can focus on sharing her thinking more often during class conversations and learning times.\n",
    "<student>\n",
    "<student> has had a great start to his school year. <student> is an eager, inquisitive, and hard-working student who has a positive attitude towards learning and has made good academic progress this term. <student> has good work habits including completing his work and asking for help or clarification. <student> has established good connections with his classmates and enjoys sharing his sense of humor and new ideas with others. In the next term, <student> is encouraged to be more mindful about talking over others in his excitement for learning and giving others space to share their thinking, as well as not chatting with friends during learning times.\n",
    "<student> \n",
    "<student> has had a great start to his school year and has done well settling into his new school. <student> is a hard-working, inquisitive, and diligent student who has made good academic progress this term. <student> has very good work habits including completing his work thoughtfully and asking for help or clarification. <student> has established positive connections with his classmates and enjoys sharing his sense of humor with others. In the next term, <student> can continue to work on building perseverance with non-preferred activities that are part of our class plan or routines such as learning time at the carpet.\n",
    "<student>\n",
    "<student> has had a great start to her school year. <student> is an eager, inquisitive, and creative student who has made great academic progress this term. <student> has good work habits including asking for help or clarification when she needs it and adding details to her work. <student> has established friendly relationships with her classmates and is kind to others. In the next term, <student> is encouraged to be more mindful about talking over others in her excitement for learning and giving others space to share their thinking, as well as not chatting with friends during learning times.\n",
    "<student>\n",
    "<student> has had a great start to her school year. <student> is a thoughtful, respectful, and engaged student who enjoys sharing her thinking during class learning conversations. She has made good academic progress this term and has good work habits such as completing her learning jobs and staying on task. <student> has established positive connections with her classmates and is kind and inclusive to others as well as firm in her views of what is right and wrong. She advocates for others and herself if something seems unfair. In the next term, <student> should continue asking for help or clarification when she needs it and can continue to be a role model to others.\n",
    "<student>\n",
    "This term, <student> has been working hard to improve his learning behaviors and to make some academic progress. <student> is a helpful, curious, and focused student and has some good work habits including completing his work and staying on-task. <student> has made some positive connections with his classmates but sometimes requires adult support to have kind interactions with others and solve problems. This next term, <student> can continue to work on making deeper connections with his classmates by practicing strategies to help him navigate challenging social situations.\n",
    "<student>\n",
    "<student> has had a great start to his school year. <student> is a creative, enthusiastic, and engaged student who has made good academic progress this term. <student> has great work habits including completing his work thoughtfully and getting started right away on learning jobs. <student> has made great connections with his classmates and enjoys sharing his sense of humor and ideas. In the next term, <student> can continue to work on waiting his turn to talk during learning conversations and finding appropriate times to chat with his friends rather than at the carpet.\n",
    "<student>\n",
    "<student> has had a great start to his school year. <student> is a focused, respectful, and helpful student who has made good academic progress this term. <student> has good work habits including staying on task and following instructions. <student> has built positive connections with his classmates and is kind to all. He works well with everyone. In this next term, <student>' goal will be to put more effort into completing his work thoroughly. When he is interested and motivated <student> can do excellent work, so helping him find that interest and motivation will be beneficial for him.\n",
    "<student>\n",
    "<student> has had a good start to his school year. <student> is a creative, curious, and capable student who has made some academic progress this term. <student> has some effective learning behaviors including listening and participating in class learning conversations and feeling proud of his work. <student> enjoys making connections with his classmates by sharing his thinking and his sense of humor. This term, <student> would benefit from continuing to learn skills and strategies to help him regulate and manage his emotions including advocating for himself, asking for breaks when needed, and persisting with non-preferred tasks and learning jobs.\n",
    "<student>\n",
    "<student> has had a great start to her school year. <student> is a respectful, helpful, and thoughtful student who has made good academic progress this term. <student> has good work habits including thoughtfully completing her learning jobs and asking for help if she is unsure. <student> has made great connections with her classmates and is kind and inclusive to all. She works well with everybody, and is often the first person to volunteer to help someone or invite a classmate into a group. This next term, <student> should continue to ask for help when she needs it and is encouraged to share her ideas with the class more often during learning conversations.\n",
    "<student>\n",
    "<student> has had a good start to her school year. <student> is a hardworking, creative, and thoughtful student who has made some academic progress this term. <student> has good work habits including completing her work and staying focused on a task. <student> has made positive connections with many of her classmates and enjoys sharing her creativity with others. In the next term, <student> is encouraged to ask for help when she is feeling stuck in her learning and to continue building and practicing strategies for navigating tricky social situations.\n",
    "<student>\n",
    "<student> has had a good start to his school year. <student> is a helpful, creative, and eager student who has made some academic progress this term. <student> has improved some of his work habits including asking for help when he needs it and more frequently completing his work. <student> has positive connections with his classmates and enjoys sharing his sense of humor with others. This next term <student> should continue to build his stamina for written academic work as well as focusing on his learning rather than talking with his friends during work times.\n",
    "<student>\n",
    "<student> has had a great start to her school year. <student> is a thoughtful, eager, and focused student who has made good academic progress this term. <student> has good learning behaviors including getting started right away and thoughtfully completing her work. <student> is very social and has made positive connections with all of her classmates. She works well with everyone. In the next term, <student> can work on ensuring she shares on-topic connections and stories during learning conversations so that her classmates stay focused on the discussion.\n",
    "<student>\n",
    "<student> has had a great start to his school year. <student> is a creative, thoughtful, and focused student who has made good academic progress this term. <student> has good work habits including fully completing his work and staying on task. <student> has made positive connections with his classmates and is kind to all. He works well with everyone. In the next term, <student> can work on asking for help if he needs it or feels stuck, and is encouraged to share his ideas with his classmates more often during learning conversations.\n",
    "<student>\n",
    "<student> has had a great start to his school year. <student> is a kind, caring, and creative student who has made good academic progress this term. <student> has worked to improve his learning behaviors including asking for help and staying focused on his learning jobs. <student> has made positive connections with his classmates and is more effectively managing big emotions when challenging situations with friends arise. While he often still needs adult support with this, he is more frequently and independently using strategies such as walking away, talking it out, or taking breaks. <student>'s goal this next term will be to continue building his stamina for written academic work so that he can continue to learn effectively, as well as continuing to use his strategies to manage emotions in a positive way during conflicts or challenges.\n",
    "<student>\n",
    "<student> has had a great start to her school year. <student> is a thoughtful, inquisitive, and creative student who has made good academic progress this term. <student> has good work habits including asking for help when she is unsure and working hard to fully complete her learning jobs. <student> has made positive connections with many of her classmates and enjoys sharing her sense of humor with others. She sometimes gets involved in her classmate's problems, and while it's important to help others, she would benefit from more often focusing on her own tasks instead of trying to manage others. This would be a good goal for <student> for next term.\n",
    "<student> \n",
    "<student> has had a good start to his school year. <student> is a curious, helpful, and positive student who has made some academic progress this term. <student> has some good learning behaviors and work habits including completing his work when he is focused and asking for help. <student> has established positive connections with his classmates and is kind and friendly to all. Next term, <student> could work on increasing his stamina for work jobs and keep his table space more organized so that he is not distracted during his learning.\n",
    "<student>\n",
    "<student> has had a great start to his school year. <student> is a kind, respectful, and easy-going student who has a positive attitude about learning and has made good academic progress this term. <student> has good work habits including staying on task and thoughtfully completing his work, and is a quiet leader in our class by consistently doing the right thing. <student> has made positive connections with his classmates and is kind and inclusive to all. He works well with everyone. In the next term, <student> could work on sharing his thinking more frequently with the class to further his learning.\n",
    "<student>\n",
    "<student> has had a great start to his school year. <student> is a helpful, respectful, and easy-going student who has a positive attitude about learning and has made good academic progress this term. <student> has good work habits including getting started right away and having a flexible mindset. <student> has made positive connections with his classmates and is kind and inclusive to all. He works well with everyone. Next term, <student> can focus on minimizing some preventable mistakes on his learning jobs by spending a bit more time being thoughtful about his work rather than rushing to complete it.\n",
    "<student>\n",
    "<student> has had a good start to his school year and has settled into the routines. <student> is a cooperative, kind, and hard-working student and has made good academic progress this term. <student> has some good work habits including getting started right away on learning jobs and asking for help when he needs it. <student> has made positive connections with his classmates and is able to work well with everyone. In the next term, <student> should continue his good progress by continuing to ask for help when he needs it and to further strengthen his perseverance for difficult tasks.\n",
    "<student>\n",
    "<student> has had a great start to her school year. <student> is a kind, focused, and hardworking student who has made good academic progress this term. <student> has good work habits including advocating for herself and her needs and participating in all learning conversations. <student> has good connections with her classmates and has created many friendships with others. She works well with everyone and is inclusive to all. Next term, <student> should continue to ask for help when she needs it and to try to keep her table area organized to allow for more space for her work.\n",
    "\"\"\""
   ],
   "outputs": [],
   "execution_count": 4
  },
  {
   "metadata": {
    "ExecuteTime": {
     "end_time": "2024-12-09T05:05:08.144332Z",
     "start_time": "2024-12-09T05:05:08.141321Z"
    }
   },
   "cell_type": "code",
   "source": [
    "rough_notes_on_student = \"\"\" \n",
    "-good start to year\n",
    "-respectful, creative, kind, diligent, helpful, hard-working\n",
    "-good academic progress\n",
    "-good work habits including completing his work thoroughly and asking for help or clarification\n",
    "-positive relationships with classmates and enjoys sharing sense of humor and artwork with others\n",
    "-continue building connections with classmates and more often sharing ideas with the class\n",
    "\"\"\""
   ],
   "id": "9e269ffeae82de93",
   "outputs": [],
   "execution_count": 5
  },
  {
   "metadata": {
    "ExecuteTime": {
     "end_time": "2024-12-09T05:05:08.802100Z",
     "start_time": "2024-12-09T05:05:08.798564Z"
    }
   },
   "cell_type": "code",
   "source": [
    "structure = \"\"\"\n",
    "Each comment paragraph should present the following information in the order specified:\n",
    "1. How the student has started their year and settled in\n",
    "2. Traits about the student\n",
    "3. Overall academic progress\n",
    "4. Work habits\n",
    "5. Relationships with classmates\n",
    "6. Goal or focus for next term\n",
    "\"\"\""
   ],
   "id": "e585a2486014886e",
   "outputs": [],
   "execution_count": 6
  },
  {
   "metadata": {
    "collapsed": true,
    "ExecuteTime": {
     "end_time": "2024-12-09T05:07:17.992337Z",
     "start_time": "2024-12-09T05:07:12.960440Z"
    }
   },
   "cell_type": "code",
   "source": [
    "from toolkit.language_models.model_connection import ChatModelsSetup\n",
    "from langchain_core.prompts import PromptTemplate\n",
    "from pydantic import BaseModel\n",
    "\n",
    "\n",
    "class Comments(BaseModel):\n",
    "    student_id: str\n",
    "    comments: str\n",
    "\n",
    "\n",
    "template = \"\"\"\n",
    "Human: You are an expert elementary report card writing assistant. \n",
    "You will arrange my assessment notes for my students into clear opening comments using simple, parent-friendly language.  \n",
    "\n",
    "Here is a description of the opening comment structure that you should follow:\n",
    "{structure}\n",
    "\n",
    "Here are a few of my favourite examples of opening comments I've written in the past. Your opening comments should follow a similar structure, tone, and voice.\n",
    "{examples}\n",
    "\n",
    "Here is the student's ID:\n",
    "{id} \n",
    "\n",
    "Here are my rough notes for the student: \n",
    "{notes}\n",
    "\n",
    "Please output the opening comments using the following JSON structure:\n",
    "{json_structure}\n",
    "\n",
    "Please output the JSON data enclosed with no additional text, preamble, separators, or extra characters.\n",
    "Assistant:\n",
    "\"\"\"\n",
    "\n",
    "prompt_template = PromptTemplate.from_template(template)\n",
    "\n",
    "formatted_prompt = prompt_template.format(\n",
    "    examples=comment_examples,\n",
    "    structure=structure,\n",
    "    id=\"Jeremy\",\n",
    "    notes=rough_notes_on_student,\n",
    "    json_structure=Comments.model_json_schema()\n",
    ")\n",
    "\n",
    "chat_models = ChatModelsSetup()\n",
    "response = chat_models.claude_35_v2_sonnet_chat.invoke(formatted_prompt)\n",
    "opening_comments = Comments.model_validate_json(response.content)\n",
    "print(opening_comments.comments)\n"
   ],
   "id": "initial_id",
   "outputs": [
    {
     "name": "stdout",
     "output_type": "stream",
     "text": [
      "Jeremy has had a good start to his school year. Jeremy is a respectful, creative, and hard-working student who has made good academic progress this term. Jeremy has good work habits including completing his work thoroughly and asking for help or clarification. Jeremy has established positive connections with his classmates and enjoys sharing his sense of humor and artwork with others. In the next term, Jeremy is encouraged to continue building connections with his classmates and to share his ideas more often during class learning conversations.\n"
     ]
    }
   ],
   "execution_count": 13
  },
  {
   "metadata": {},
   "cell_type": "code",
   "outputs": [],
   "execution_count": null,
   "source": [
    "from toolkit.language_models.model_connection import ChatModelsSetup\n",
    "from langchain_core.prompts import PromptTemplate\n",
    "\n",
    "\n",
    "template = \"\"\"\n",
    "Human: You are an expert elementary report card writing assistant. \n",
    "You will format my written report card comments into the specific formatting required for entry into the reporting software. \n",
    "\n",
    "Here is the example of the exact format the comments must align with:\n",
    "{format}\n",
    "\n",
    "Here is the student's ID:\n",
    "{id} \n",
    "\n",
    "Here are my comments for the student: \n",
    "{comments}\n",
    "\n",
    "Please output the opening comments using the following JSON structure:\n",
    "{structure}\n",
    "\n",
    "Please output the JSON data enclosed with no additional text, preamble, separators, or extra characters.\n",
    "Assistant:\n",
    "\"\"\"\n",
    "\n",
    "prompt_template = PromptTemplate.from_template(template)\n",
    "\n",
    "formatted_prompt = prompt_template.format(\n",
    "    format=\"\",\n",
    "    id=\"\",\n",
    "    comments=\"\",\n",
    "    structure=Comments.model_json_schema()\n",
    ")\n",
    "\n",
    "chat_models = ChatModelsSetup()\n",
    "response = chat_models.claude_35_v2_sonnet_chat.invoke(formatted_prompt)\n",
    "formatted_comments = Comments.model_validate_json(response)\n"
   ],
   "id": "9b81997c4766b397"
  }
 ],
 "metadata": {
  "kernelspec": {
   "display_name": "Python 3",
   "language": "python",
   "name": "python3"
  },
  "language_info": {
   "codemirror_mode": {
    "name": "ipython",
    "version": 2
   },
   "file_extension": ".py",
   "mimetype": "text/x-python",
   "name": "python",
   "nbconvert_exporter": "python",
   "pygments_lexer": "ipython2",
   "version": "2.7.6"
  }
 },
 "nbformat": 4,
 "nbformat_minor": 5
}
