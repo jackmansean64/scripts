{
 "cells": [
  {
   "cell_type": "code",
   "execution_count": null,
   "id": "initial_id",
   "metadata": {
    "collapsed": true
   },
   "outputs": [],
   "source": [
    "from toolkit.language_models.model_connection import ChatModelsSetup\n",
    "from langchain_core.prompts import PromptTemplate\n",
    "\n",
    "\n",
    "formatting_template = \"\"\"\n",
    "Human: You are an expert elementary report card writing assistant. \n",
    "You will format my written report card comments into the specific formatting required for entry into the reporting software. \n",
    "\n",
    "Here is the example of the exact format the comments must align with:\n",
    "{format}\n",
    "\n",
    "Here is the student's ID:\n",
    "{id} \n",
    "\n",
    "Here are my comments for the student: \n",
    "{comments}\n",
    "\n",
    "Please output the opening comments using the following JSON structure:\n",
    "{structure}\n",
    "\n",
    "Please output the JSON data enclosed with no additional text, preamble, separators, or extra characters.\n",
    "Assistant:\n",
    "\"\"\"\n",
    "\n",
    "prompt_template = PromptTemplate.from_template(formatting_template)\n",
    "\n",
    "formatted_prompt = prompt_template.format(\n",
    "    format=\"\",\n",
    "    id=\"\",\n",
    "    comments=\"\",\n",
    "    structure=Comments.model_json_schema()\n",
    ")\n",
    "\n",
    "chat_models = ChatModelsSetup()\n",
    "response = chat_models.claude_35_v2_sonnet_chat.invoke(formatted_prompt)\n",
    "formatted_comments = Comments.model_validate_json(response)\n"
   ]
  }
 ],
 "metadata": {
  "kernelspec": {
   "display_name": "Python 3",
   "language": "python",
   "name": "python3"
  },
  "language_info": {
   "codemirror_mode": {
    "name": "ipython",
    "version": 2
   },
   "file_extension": ".py",
   "mimetype": "text/x-python",
   "name": "python",
   "nbconvert_exporter": "python",
   "pygments_lexer": "ipython2",
   "version": "2.7.6"
  }
 },
 "nbformat": 4,
 "nbformat_minor": 5
}
