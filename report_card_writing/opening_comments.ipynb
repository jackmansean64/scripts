{
 "cells": [
  {
   "cell_type": "code",
   "id": "b510216d1e56670f",
   "metadata": {
    "ExecuteTime": {
     "end_time": "2024-12-12T03:28:18.996496Z",
     "start_time": "2024-12-12T03:28:18.993182Z"
    }
   },
   "source": [
    "from typing import List\n",
    "\n",
    "from toolkit.language_models.model_connection import ChatModelsSetup\n",
    "from langchain_core.prompts import PromptTemplate\n",
    "from pydantic import BaseModel"
   ],
   "outputs": [],
   "execution_count": 32
  },
  {
   "metadata": {
    "ExecuteTime": {
     "end_time": "2024-12-12T03:28:19.010966Z",
     "start_time": "2024-12-12T03:28:19.000422Z"
    }
   },
   "cell_type": "code",
   "source": [
    "comment_examples = \"\"\"\n",
    "Name\n",
    "Comment\n",
    "<student>\n",
    "<student> has had a great start to her school year. <student> is a kind, respectful, and thoughtful student who has made good academic progress this term. <student> has good work habits including asking for help when she needs it and staying on task. <student> has established friendly relationships with her classmates and works well with everyone. In the next term <student> can focus on sharing her thinking more often during class conversations and learning times.\n",
    "<student>\n",
    "<student> has had a great start to his school year. <student> is an eager, inquisitive, and hard-working student who has a positive attitude towards learning and has made good academic progress this term. <student> has good work habits including completing his work and asking for help or clarification. <student> has established good connections with his classmates and enjoys sharing his sense of humor and new ideas with others. In the next term, <student> is encouraged to be more mindful about talking over others in his excitement for learning and giving others space to share their thinking, as well as not chatting with friends during learning times.\n",
    "<student> \n",
    "<student> has had a great start to his school year and has done well settling into his new school. <student> is a hard-working, inquisitive, and diligent student who has made good academic progress this term. <student> has very good work habits including completing his work thoughtfully and asking for help or clarification. <student> has established positive connections with his classmates and enjoys sharing his sense of humor with others. In the next term, <student> can continue to work on building perseverance with non-preferred activities that are part of our class plan or routines such as learning time at the carpet.\n",
    "<student>\n",
    "<student> has had a great start to her school year. <student> is an eager, inquisitive, and creative student who has made great academic progress this term. <student> has good work habits including asking for help or clarification when she needs it and adding details to her work. <student> has established friendly relationships with her classmates and is kind to others. In the next term, <student> is encouraged to be more mindful about talking over others in her excitement for learning and giving others space to share their thinking, as well as not chatting with friends during learning times.\n",
    "<student>\n",
    "<student> has had a great start to her school year. <student> is a thoughtful, respectful, and engaged student who enjoys sharing her thinking during class learning conversations. She has made good academic progress this term and has good work habits such as completing her learning jobs and staying on task. <student> has established positive connections with her classmates and is kind and inclusive to others as well as firm in her views of what is right and wrong. She advocates for others and herself if something seems unfair. In the next term, <student> should continue asking for help or clarification when she needs it and can continue to be a role model to others.\n",
    "<student>\n",
    "This term, <student> has been working hard to improve his learning behaviors and to make some academic progress. <student> is a helpful, curious, and focused student and has some good work habits including completing his work and staying on-task. <student> has made some positive connections with his classmates but sometimes requires adult support to have kind interactions with others and solve problems. This next term, <student> can continue to work on making deeper connections with his classmates by practicing strategies to help him navigate challenging social situations.\n",
    "<student>\n",
    "<student> has had a great start to his school year. <student> is a creative, enthusiastic, and engaged student who has made good academic progress this term. <student> has great work habits including completing his work thoughtfully and getting started right away on learning jobs. <student> has made great connections with his classmates and enjoys sharing his sense of humor and ideas. In the next term, <student> can continue to work on waiting his turn to talk during learning conversations and finding appropriate times to chat with his friends rather than at the carpet.\n",
    "<student>\n",
    "<student> has had a great start to his school year. <student> is a focused, respectful, and helpful student who has made good academic progress this term. <student> has good work habits including staying on task and following instructions. <student> has built positive connections with his classmates and is kind to all. He works well with everyone. In this next term, <student>' goal will be to put more effort into completing his work thoroughly. When he is interested and motivated <student> can do excellent work, so helping him find that interest and motivation will be beneficial for him.\n",
    "<student>\n",
    "<student> has had a good start to his school year. <student> is a creative, curious, and capable student who has made some academic progress this term. <student> has some effective learning behaviors including listening and participating in class learning conversations and feeling proud of his work. <student> enjoys making connections with his classmates by sharing his thinking and his sense of humor. This term, <student> would benefit from continuing to learn skills and strategies to help him regulate and manage his emotions including advocating for himself, asking for breaks when needed, and persisting with non-preferred tasks and learning jobs.\n",
    "<student>\n",
    "<student> has had a great start to her school year. <student> is a respectful, helpful, and thoughtful student who has made good academic progress this term. <student> has good work habits including thoughtfully completing her learning jobs and asking for help if she is unsure. <student> has made great connections with her classmates and is kind and inclusive to all. She works well with everybody, and is often the first person to volunteer to help someone or invite a classmate into a group. This next term, <student> should continue to ask for help when she needs it and is encouraged to share her ideas with the class more often during learning conversations.\n",
    "<student>\n",
    "<student> has had a good start to her school year. <student> is a hardworking, creative, and thoughtful student who has made some academic progress this term. <student> has good work habits including completing her work and staying focused on a task. <student> has made positive connections with many of her classmates and enjoys sharing her creativity with others. In the next term, <student> is encouraged to ask for help when she is feeling stuck in her learning and to continue building and practicing strategies for navigating tricky social situations.\n",
    "<student>\n",
    "<student> has had a good start to his school year. <student> is a helpful, creative, and eager student who has made some academic progress this term. <student> has improved some of his work habits including asking for help when he needs it and more frequently completing his work. <student> has positive connections with his classmates and enjoys sharing his sense of humor with others. This next term <student> should continue to build his stamina for written academic work as well as focusing on his learning rather than talking with his friends during work times.\n",
    "<student>\n",
    "<student> has had a great start to her school year. <student> is a thoughtful, eager, and focused student who has made good academic progress this term. <student> has good learning behaviors including getting started right away and thoughtfully completing her work. <student> is very social and has made positive connections with all of her classmates. She works well with everyone. In the next term, <student> can work on ensuring she shares on-topic connections and stories during learning conversations so that her classmates stay focused on the discussion.\n",
    "<student>\n",
    "<student> has had a great start to his school year. <student> is a creative, thoughtful, and focused student who has made good academic progress this term. <student> has good work habits including fully completing his work and staying on task. <student> has made positive connections with his classmates and is kind to all. He works well with everyone. In the next term, <student> can work on asking for help if he needs it or feels stuck, and is encouraged to share his ideas with his classmates more often during learning conversations.\n",
    "<student>\n",
    "<student> has had a great start to his school year. <student> is a kind, caring, and creative student who has made good academic progress this term. <student> has worked to improve his learning behaviors including asking for help and staying focused on his learning jobs. <student> has made positive connections with his classmates and is more effectively managing big emotions when challenging situations with friends arise. While he often still needs adult support with this, he is more frequently and independently using strategies such as walking away, talking it out, or taking breaks. <student>'s goal this next term will be to continue building his stamina for written academic work so that he can continue to learn effectively, as well as continuing to use his strategies to manage emotions in a positive way during conflicts or challenges.\n",
    "<student>\n",
    "<student> has had a great start to her school year. <student> is a thoughtful, inquisitive, and creative student who has made good academic progress this term. <student> has good work habits including asking for help when she is unsure and working hard to fully complete her learning jobs. <student> has made positive connections with many of her classmates and enjoys sharing her sense of humor with others. She sometimes gets involved in her classmate's problems, and while it's important to help others, she would benefit from more often focusing on her own tasks instead of trying to manage others. This would be a good goal for <student> for next term.\n",
    "<student> \n",
    "<student> has had a good start to his school year. <student> is a curious, helpful, and positive student who has made some academic progress this term. <student> has some good learning behaviors and work habits including completing his work when he is focused and asking for help. <student> has established positive connections with his classmates and is kind and friendly to all. Next term, <student> could work on increasing his stamina for work jobs and keep his table space more organized so that he is not distracted during his learning.\n",
    "<student>\n",
    "<student> has had a great start to his school year. <student> is a kind, respectful, and easy-going student who has a positive attitude about learning and has made good academic progress this term. <student> has good work habits including staying on task and thoughtfully completing his work, and is a quiet leader in our class by consistently doing the right thing. <student> has made positive connections with his classmates and is kind and inclusive to all. He works well with everyone. In the next term, <student> could work on sharing his thinking more frequently with the class to further his learning.\n",
    "<student>\n",
    "<student> has had a great start to his school year. <student> is a helpful, respectful, and easy-going student who has a positive attitude about learning and has made good academic progress this term. <student> has good work habits including getting started right away and having a flexible mindset. <student> has made positive connections with his classmates and is kind and inclusive to all. He works well with everyone. Next term, <student> can focus on minimizing some preventable mistakes on his learning jobs by spending a bit more time being thoughtful about his work rather than rushing to complete it.\n",
    "<student>\n",
    "<student> has had a good start to his school year and has settled into the routines. <student> is a cooperative, kind, and hard-working student and has made good academic progress this term. <student> has some good work habits including getting started right away on learning jobs and asking for help when he needs it. <student> has made positive connections with his classmates and is able to work well with everyone. In the next term, <student> should continue his good progress by continuing to ask for help when he needs it and to further strengthen his perseverance for difficult tasks.\n",
    "<student>\n",
    "<student> has had a great start to her school year. <student> is a kind, focused, and hardworking student who has made good academic progress this term. <student> has good work habits including advocating for herself and her needs and participating in all learning conversations. <student> has good connections with her classmates and has created many friendships with others. She works well with everyone and is inclusive to all. Next term, <student> should continue to ask for help when she needs it and to try to keep her table area organized to allow for more space for her work.\n",
    "\"\"\""
   ],
   "id": "4a88e31a9767a74d",
   "outputs": [],
   "execution_count": 33
  },
  {
   "metadata": {
    "ExecuteTime": {
     "end_time": "2024-12-12T03:28:19.032052Z",
     "start_time": "2024-12-12T03:28:19.021011Z"
    }
   },
   "cell_type": "code",
   "source": [
    "student_notes_by_id = {\n",
    "  \"1\": \"-great start to year -respectful, creative, helpful, kind, positive, responsible, hard-worker -good academic progress and has a positive attitude towards learning -good work habits such as staying focused on his work and asking for help when he needs it -has positive relationships with classmates and enjoys sharing sense of humor and artwork with others, is kind and inclusive to all, works well with everyone -goal is to share his thinking more often during class conversations and learning times\",\n",
    "  \"2\": \"-good start to year -respectful, creative, hard-working, kind, positive -good academic progress and has positive attitude towards learning -good work habits such as staying focused on his work and asking for clarification -positive relationships with classmates and enjoys sharing sense of humor and artwork with others, is kind and to all, works well with everyone -Goal for next term: sharing his thinking more often during class conversations and learning times\",\n",
    "  \"3\": \"-good start to year -kind, thoughtful, respectful, curious student, empathetic -good academic progress and has positive attitude towards learning - good work habits such as completing her work and asking for help or clarification when she needs it -positive relationships with classmates and is helpful and empathetic to others, is kind and inclusive to all, works well with everyone -goal for next term is to continue to share her on-topic thinking with the class during learning conversations, and to seek out leadership opportunities in the class\",\n",
    "  \"4\": \"-great start to year -focused, respectful, kind, hard-working, responsible -good academic progress and has a very positive attitude towards learning -good work habits including completing her learning jobs and staying on task -positive relationships with classmates and is helpful to others, is kind and inclusive to all, works well with everyone -Goal for next term: sharing her thinking more often during class conversations and learning times.\",\n",
    "  \"5\": \"-great start to year -hard-working, focused, eager, respectful, leader, responsible, -good academic progress and has a very positive attitude towards learning - good work habits including completing her learning jobs and asking for help if she is unsure -positive relationships with classmates and is helpful to others, is kind and inclusive to all, works well with everyone -in the next term, Lennox is encouraged to challenge herself by gradually extending the amount of work she does with each task, such as writing a little bit more, or solving one more math problem, so that she can continue pushing her learning further.\",\n",
    "  \"6\": \"-good start to year -creative, easy-going, curious, positive -some academic progress and positive attitude towards learning - has some effective work habits including completing his work when he is focused, and asking for clarification or help. -has made positive connections with his classmates and enjoys sharing his sense of humour and creativity with his classmates, works well with everyone -goal for next term: staying focused during instructional times so he knows what to do, then getting started right away on his learning job\",\n",
    "  \"7\": \"-great start to year -eager, respectful, curious, hard-worker leader, responsible, -great academic progress and has a very positive attitude towards learning -very effective work habits including getting started right away and fully completing his learning jobs -positive relationships with classmates and is helpful to others, is kind and inclusive to all, works well with everyone -in the next term, Logan is encouraged to challenge himself by gradually extending the amount of work he does with each task, such as writing a little bit more, or solving one more math problem, so that he can continue pushing his learning further\",\n",
    "  \"8\": \"-good start to year -curious, respectful, creative, kind, thoughtful, responsible -good academic progress and has a positive attitude towards learning -good work habits including asking for help when she needs it and sharing her thinking with the class during learning times - positive relationships with classmates and is helpful to others, is kind and inclusive to all, works well with everyone -goal is to ask for help right away if she is unsure, and to get started on learning tasks a bit quicker to give her the maximum time to complete her learning jobs\",\n",
    "  \"9\": \"-settled into class and has had a good start to his year -curious, creative, playful, positive, sense of humour, -some academic progress and usually has a positive attitude towards learning -some effective work habits including asking for help and more often shares his thinking or understanding of topics with the class during learning conversations -has made positive connections with many of his classmates and enjoys working and playing with others. Scott often needs adult support to solve problems with his peers, or to provide personal space to others, but has made good improvements in this area. -Next term, Scott can continue to work on continuing to build positive relationships with his classmates by learning and practicing strategies to help him navigate social situations, and to ask for help from an adult during challenging moments. Scott can also continue to build his stamina for work jobs.\",\n",
    "  \"10\": \"-great start to year -respectful, enthusiastic, kind, hard-working, responsible, focused -good academic progress and has a very positive attitude towards learning -good work habits including fully completing her learning jobs and asking for help or clarification -positive relationships with classmates and is helpful to others, is kind and inclusive to all, works well with everyone -in the next term, Maia is encouraged to continue to challenge herself by gradually extending the amount of work she does with each task, such as writing a little bit more, or solving one more math problem, so that she can continue pushing her learning further\",\n",
    "  \"11\": \"-settled into class and has had a good start to his year -creative, curious, capable, -good academic progress and can have a positive attitude towards learning when interested in the topic -has some good work habits including asking for help or clarification and is more often sharing his thoughts and connections during learning conversations. -has made positive connections with many of his classmates and enjoys sharing his sense of humour and creativity with others. Elwood is more effectively managing big emotions when challenging situations with friends or other students arise. While he often still needs adult support with this, he is more frequently and independently using strategies such as walking away, talking it out, letting it go, or asking an adult for help. -goal for next term is to continue building his stamina for written academic work and non-preferred learning jobs so that he can continue to learn effectively, as well as continuing to use strategies to manage emotions in a positive way during conflicts or challenges including advocating for himself when he needs a break or adult support to solve a problem.\",\n",
    "  \"12\": \"-great start to year -kind, curious, respectful, helpful, sense of humour, playful -good academic progress and usually has a positive attitude towards learning -good work habits including asking for help or clarification and sharing his thinking with the class during learning conversations -positive relationships with classmates is kind and inclusive to all, works well with everyone -focus on completing his good academic work more neatly and with care so that his audience can appreciate his ideas, and to practice strategies to focus during learning times including choosing to sit away from friends at the carpet so he is not distracted and is not distracting others\",\n",
    "  \"13\": \"-great start to year -kind, hard-worker, curious, respectful, thoughtful, responsible, focused -good academic progress and has a very positive attitude towards learning -very good work habits including getting started right away and fully completing his work jobs - positive relationships with classmates and is helpful to others, is kind and inclusive to all, works well with everyone -in the next term, Cole is encouraged to challenge himself by gradually extending the amount of work he does with each task, such as writing a little bit more, or solving one more math problem, so that he can continue pushing his learning further\",\n",
    "  \"14\": \"-settled into class and has had a good start to his year -eager, thoughtful, kind, respectful, helpful, -some academic progress and usually has a positive attitude towards learning -some good work habits including asking for help or clarification and feeling proud of his work -positive connections with his classmates and enjoys working and playing with others. -goal is to continue to build his stamina for academic work by persevering with non-preferred or more challenging learning jobs, and to continue using strategies to effectively manage his emotions at school such as taking a break or asking for adult support.\",\n",
    "  \"15\": \"-good start to year -kind, focused, responsible, hard-working, eager, curious -good academic progress and has a positive attitude towards learning -has good work habits including asking for help or clarification and fully completing her learning jobs -positive relationships with classmates and is helpful to others, is kind to others and can work well with everyone - goal for next term is to continue to share on-topic thinking with the class during learning conversations, and to seek out leadership opportunities in the class\",\n",
    "  \"16\": \"-good start to year -hard-working, creative, eager, curious, playful, sense of humour -good academic progress and has a positive attitude towards learning -good work habits including completing her learning jobs and feeling proud of her work -has made positive connections with her classmates and works well with others -goal for next term is to continue to share on-topic thinking with the class during learning conversations more frequently\",\n",
    "  \"17\": \"-great start to year -focused, thoughtful, kind, helpful, responsible, hard-working, respectful -good academic progress and has a very positive attitude towards learning -very good work habits including getting started right away and completing her learning jobs -positive relationships with classmates and is helpful to others, is kind and inclusive to all, works well with everyone -goal is to share her thinking more often during class conversations and learning times\",\n",
    "  \"18\": \"-good start to year -playful, kind, respectful, curious, sense of humour, -good academic progress and has a positive attitude towards learning -good work habits such as getting started right away and asking for help or clarification if he is unsure -good relationships with his classmates and enjoys working and playing with others -focus on completing his good academic work more neatly and with care so that his audience can appreciate his ideas, and to practice strategies to focus during learning times including choosing to sit away from friends at the carpet so he is not distracted and is not distracting others\",\n",
    "  \"19\": \"-great start to year -kind, responsible, curious, empathetic, hard-working, helpful, respectful -good academic progress and has a very positive attitude towards learning -very good work habits including fully completing her learning jobs and getting started right away -positive relationships with classmates and is helpful to others, is kind and inclusive to all, works well with everyone -goal for next term is to continue to share on-topic thinking with the class during learning conversations, and to seek out leadership opportunities in the class\",\n",
    "  \"20\": \"-great start to year -hard-working, respectful, focused, kind, responsible -good academic progress and has a very positive attitude towards learning -good work habits including asking for help or clarification if she is unsure, and getting started right away -positive relationships with classmates and is helpful to others, is kind and inclusive to all, works well with everyone -goal is to share her thinking more often during class conversations and learning times\",\n",
    "  \"21\": \"-good start to year -thoughtful, creative, curious, respectful, kind, helpful, -good academic progress and has a positive attitude towards learning -good work habits including feeling proud of her work and sharing her thoughts during learning conversations -has made positive connections with her classmates and is kind and inclusive to others, works well with everyone -goal is to ask for help earlier if she is unsure or needing assistance with learning jobs so that she can continue to complete her work and learn effectively\",\n",
    "  \"22\": \"-good start to year -thoughtful, respectful, kind, eager, hard-working -good academic progress and has a positive attitude towards learning -has good work habits including getting started right away and completing his learning jobs -positive relationships with classmates and is helpful to others, is kind to others, works well with everyone -goal is to share his thinking more often during class conversations and learning times\"\n",
    "}\n",
    "\n"
   ],
   "id": "9e269ffeae82de93",
   "outputs": [],
   "execution_count": 34
  },
  {
   "metadata": {
    "ExecuteTime": {
     "end_time": "2024-12-12T03:28:19.082442Z",
     "start_time": "2024-12-12T03:28:19.078280Z"
    }
   },
   "cell_type": "code",
   "source": [
    "structure = \"\"\"\n",
    "Each comment paragraph should present the following information in the order specified:\n",
    "1. How the student has started their year and settled in\n",
    "2. Traits about the student (select 3)\n",
    "3. Overall academic progress\n",
    "4. Work habits\n",
    "5. Relationships with classmates\n",
    "6. Goal or focus for next term\n",
    "\"\"\""
   ],
   "id": "e585a2486014886e",
   "outputs": [],
   "execution_count": 35
  },
  {
   "metadata": {
    "ExecuteTime": {
     "end_time": "2024-12-12T03:28:19.102189Z",
     "start_time": "2024-12-12T03:28:19.096671Z"
    }
   },
   "cell_type": "code",
   "source": [
    "class Comments(BaseModel):\n",
    "    student_id: str\n",
    "    comments: str\n",
    "\n",
    "\n",
    "opening_comments_template = \"\"\"\n",
    "Human: You are an expert elementary report card writing assistant. \n",
    "You will arrange my assessment notes for my students into clear opening comments using simple, parent-friendly language.  \n",
    "\n",
    "Here is a description of the opening comment structure that you should follow:\n",
    "{structure}\n",
    "\n",
    "Here are a few of my favourite examples of opening comments I've written in the past. Your opening comments should follow a similar structure, tone, and voice.\n",
    "{examples}\n",
    "\n",
    "Here is the student's ID:\n",
    "{id} \n",
    "\n",
    "Here are my rough notes for the student:\n",
    "{notes}\n",
    "\n",
    "Make sure you use the exact words and terms from the notes, with the exception of the second bullet point which lists multiple adjectives about the student. You should select 3 adjectives from the list that fit best.\n",
    "\n",
    "Please output the opening comments using the following JSON structure:\n",
    "{json_structure}\n",
    "\n",
    "Please output the JSON data enclosed with no additional text, preamble, separators, or extra characters.\n",
    "Assistant:\n",
    "\"\"\""
   ],
   "id": "d78adc072cf7ba60",
   "outputs": [],
   "execution_count": 36
  },
  {
   "metadata": {
    "ExecuteTime": {
     "end_time": "2024-12-12T03:28:19.116070Z",
     "start_time": "2024-12-12T03:28:19.112497Z"
    }
   },
   "cell_type": "code",
   "source": [
    "student_names_csv = \"\"\"\n",
    "1,Jacob\n",
    "2,Guille\n",
    "3,Isla\n",
    "4,Vinchi\n",
    "5,Lennox\n",
    "6,Daniel\n",
    "7,Logan\n",
    "8,Isabelle\n",
    "9,Scott\n",
    "10,Maia\n",
    "11,Elwood\n",
    "12,Gareth\n",
    "13,Cole\n",
    "14,Mason\n",
    "15,Taylor\n",
    "16,Alexa\n",
    "17,Evie\n",
    "18,Carter\n",
    "19,Armelle\n",
    "20,Kaylie\n",
    "21,Makena\n",
    "22,Bash\n",
    "\"\"\""
   ],
   "id": "57504538f9fc14a5",
   "outputs": [],
   "execution_count": 37
  },
  {
   "metadata": {
    "ExecuteTime": {
     "end_time": "2024-12-12T03:28:19.131022Z",
     "start_time": "2024-12-12T03:28:19.125715Z"
    }
   },
   "cell_type": "code",
   "source": [
    "def load_student_names(csv_string: str) -> dict:\n",
    "    \"\"\"Convert CSV string of ID-name mappings to dictionary\"\"\"\n",
    "    name_map = {}\n",
    "    for line in csv_string.strip().split('\\n'):\n",
    "        student_id, name = line.split(',')\n",
    "        name_map[student_id.strip()] = name.strip()\n",
    "    return name_map\n",
    "\n",
    "def replace_student_names(comments: str, student_name: str) -> str:\n",
    "    \"\"\"Replace <student> placeholders with actual name\"\"\"\n",
    "    return comments.replace('<student>', student_name)\n",
    "\n"
   ],
   "id": "e657e1dfa798aedb",
   "outputs": [],
   "execution_count": 38
  },
  {
   "metadata": {
    "ExecuteTime": {
     "end_time": "2024-12-12T03:29:03.297939Z",
     "start_time": "2024-12-12T03:28:25.628618Z"
    }
   },
   "cell_type": "code",
   "source": [
    "def process_single_student(student_id, notes, name_map):\n",
    "    chat_models = ChatModelsSetup()\n",
    "    \n",
    "    prompt_template = PromptTemplate.from_template(opening_comments_template)\n",
    "\n",
    "    formatted_prompt = prompt_template.format(\n",
    "        examples=comment_examples,\n",
    "        structure=structure,\n",
    "        id=student_id,\n",
    "        notes=notes,\n",
    "        json_structure=Comments.model_json_schema()\n",
    "    )\n",
    "\n",
    "    try:\n",
    "        response = chat_models.claude_35_v2_sonnet_chat.invoke(formatted_prompt)\n",
    "        comments = Comments.model_validate_json(response.content)\n",
    "        if student_id in name_map:\n",
    "            comments.comments = replace_student_names(comments.comments, name_map[student_id])\n",
    "        return comments\n",
    "    except Exception as e:\n",
    "        print(f\"Error processing student {student_id}: {str(e)}\")\n",
    "        return None\n",
    "\n",
    "from concurrent.futures import ThreadPoolExecutor, as_completed\n",
    "from functools import partial\n",
    "\n",
    "def parallel_process_students(student_data, name_map, max_workers=5):\n",
    "    worker = partial(\n",
    "        process_single_student,\n",
    "        name_map=name_map\n",
    "    )\n",
    "    \n",
    "    processed_comments = []\n",
    "    total = len(student_data)\n",
    "    \n",
    "    with ThreadPoolExecutor(max_workers=max_workers) as executor:\n",
    "        future_to_student = {\n",
    "            executor.submit(worker, student_id, notes): student_id\n",
    "            for student_id, notes in student_data.items()\n",
    "        }\n",
    "        \n",
    "        for i, future in enumerate(as_completed(future_to_student), 1):\n",
    "            student_id = future_to_student[future]\n",
    "            try:\n",
    "                result = future.result(timeout=300)\n",
    "                if result:\n",
    "                    processed_comments.append(result)\n",
    "                print(f\"Processed {i}/{total} students\")\n",
    "            except Exception as e:\n",
    "                print(f\"Error processing student {student_id}: {str(e)}\")\n",
    "                \n",
    "    return processed_comments\n",
    "\n",
    "name_map = load_student_names(student_names_csv)\n",
    "results = parallel_process_students(\n",
    "    student_data=student_notes_by_id,\n",
    "    name_map=name_map\n",
    ")\n",
    "\n",
    "print(results)"
   ],
   "id": "acf915105cc35156",
   "outputs": [
    {
     "name": "stdout",
     "output_type": "stream",
     "text": [
      "Processed 1/22 students\n",
      "Processed 2/22 students\n",
      "Processed 3/22 students\n",
      "Processed 4/22 students\n",
      "Processed 5/22 students\n",
      "Processed 6/22 students\n",
      "Processed 7/22 students\n",
      "Processed 8/22 students\n",
      "Processed 9/22 students\n",
      "Processed 10/22 students\n",
      "Processed 11/22 students\n",
      "Processed 12/22 students\n",
      "Processed 13/22 students\n",
      "Processed 14/22 students\n",
      "Processed 15/22 students\n",
      "Processed 16/22 students\n",
      "Processed 17/22 students\n",
      "Processed 18/22 students\n",
      "Processed 19/22 students\n",
      "Processed 20/22 students\n",
      "Processed 21/22 students\n",
      "Processed 22/22 students\n",
      "[Comments(student_id='3', comments='Isla has had a good start to her school year. Isla is a kind, thoughtful, and empathetic student who has made good academic progress and has a positive attitude towards learning. Isla has good work habits such as completing her work and asking for help or clarification when she needs it. Isla has positive relationships with her classmates and is helpful and empathetic to others. She is kind and inclusive to all and works well with everyone. In the next term, Isla can continue to share her on-topic thinking with the class during learning conversations and seek out leadership opportunities in the class.'), Comments(student_id='4', comments='Vinchi has had a great start to her school year. Vinchi is a focused, respectful, and kind student who has made good academic progress and has a very positive attitude towards learning. Vinchi has good work habits including completing her learning jobs and staying on task. Vinchi has positive relationships with her classmates and is helpful to others. She is kind and inclusive to all and works well with everyone. In the next term Vinchi can focus on sharing her thinking more often during class conversations and learning times.'), Comments(student_id='2', comments='Guille has had a good start to his school year. Guille is a respectful, creative, and hard-working student who has made good academic progress and has a positive attitude towards learning this term. Guille has good work habits such as staying focused on his work and asking for clarification. Guille has positive relationships with his classmates and enjoys sharing his sense of humor and artwork with others. He is kind to all and works well with everyone. In the next term, Guille can focus on sharing his thinking more often during class conversations and learning times.'), Comments(student_id='5', comments='Lennox has had a great start to her school year. Lennox is a hard-working, focused, and responsible student who has made good academic progress and has a very positive attitude towards learning. Lennox has good work habits including completing her learning jobs and asking for help if she is unsure. Lennox has positive relationships with her classmates and is helpful to others, is kind and inclusive to all, and works well with everyone. In the next term, Lennox is encouraged to challenge herself by gradually extending the amount of work she does with each task, such as writing a little bit more, or solving one more math problem, so that she can continue pushing her learning further.'), Comments(student_id='1', comments='Jacob has had a great start to his school year. Jacob is a respectful, creative, and hard-working student who has made good academic progress and has a positive attitude towards learning. Jacob has good work habits such as staying focused on his work and asking for help when he needs it. Jacob has positive relationships with his classmates and enjoys sharing his sense of humor and artwork with others. He is kind and inclusive to all and works well with everyone. In the next term, Jacob can focus on sharing his thinking more often during class conversations and learning times.'), Comments(student_id='6', comments='Daniel has had a good start to his school year. Daniel is a creative, easy-going, and curious student who has made some academic progress and has a positive attitude towards learning this term. Daniel has some effective work habits including completing his work when he is focused and asking for clarification or help. Daniel has made positive connections with his classmates and enjoys sharing his sense of humor and creativity with others. He works well with everyone. In the next term, Daniel can focus on staying focused during instructional times so he knows what to do, then getting started right away on his learning job.'), Comments(student_id='7', comments='Logan has had a great start to his school year. Logan is an eager, responsible, and hard-working student who has made great academic progress and has a very positive attitude towards learning. Logan has very effective work habits including getting started right away and fully completing his learning jobs. Logan has positive relationships with his classmates and is helpful to others, is kind and inclusive to all. He works well with everyone. In the next term, Logan is encouraged to challenge himself by gradually extending the amount of work he does with each task, such as writing a little bit more, or solving one more math problem, so that he can continue pushing his learning further.'), Comments(student_id='10', comments='Maia has had a great start to her school year. Maia is a respectful, focused, and hard-working student who has made good academic progress and has a very positive attitude towards learning. Maia has good work habits including fully completing her learning jobs and asking for help or clarification. Maia has positive relationships with her classmates and is helpful to others, is kind and inclusive to all, and works well with everyone. In the next term, Maia is encouraged to continue to challenge herself by gradually extending the amount of work she does with each task, such as writing a little bit more, or solving one more math problem, so that she can continue pushing her learning further.'), Comments(student_id='8', comments='Isabelle has had a good start to her school year. Isabelle is a curious, thoughtful, and responsible student who has made good academic progress and has a positive attitude towards learning. Isabelle has good work habits including asking for help when she needs it and sharing her thinking with the class during learning times. Isabelle has positive relationships with her classmates and is helpful to others. She is kind and inclusive to all and works well with everyone. In the next term, Isabelle can focus on asking for help right away if she is unsure and getting started on learning tasks a bit quicker to give her the maximum time to complete her learning jobs.'), Comments(student_id='9', comments='Scott has settled into class and has had a good start to his year. Scott is a curious, creative, and positive student who has made some academic progress and usually has a positive attitude towards learning. Scott has some effective work habits including asking for help and more often shares his thinking or understanding of topics with the class during learning conversations. Scott has made positive connections with many of his classmates and enjoys working and playing with others. He often needs adult support to solve problems with his peers, or to provide personal space to others, but has made good improvements in this area. Next term, Scott can continue to work on building positive relationships with his classmates by learning and practicing strategies to help him navigate social situations, and to ask for help from an adult during challenging moments. Scott can also continue to build his stamina for work jobs.'), Comments(student_id='12', comments='Gareth has had a great start to his school year. Gareth is a kind, curious, and helpful student who has made good academic progress and usually has a positive attitude towards learning. Gareth has good work habits including asking for help or clarification and sharing his thinking with the class during learning conversations. Gareth has positive relationships with his classmates and is kind and inclusive to all. He works well with everyone. In the next term, Gareth should focus on completing his good academic work more neatly and with care so that his audience can appreciate his ideas, and practice strategies to focus during learning times including choosing to sit away from friends at the carpet so he is not distracted and is not distracting others.'), Comments(student_id='11', comments='Elwood has settled into class and has had a good start to his year. Elwood is a creative, curious, and capable student who has made good academic progress and can have a positive attitude towards learning when interested in the topic. Elwood has some good work habits including asking for help or clarification and is more often sharing his thoughts and connections during learning conversations. Elwood has made positive connections with many of his classmates and enjoys sharing his sense of humour and creativity with others. He is more effectively managing big emotions when challenging situations with friends or other students arise. While he often still needs adult support with this, he is more frequently and independently using strategies such as walking away, talking it out, letting it go, or asking an adult for help. His goal for next term is to continue building his stamina for written academic work and non-preferred learning jobs so that he can continue to learn effectively, as well as continuing to use strategies to manage emotions in a positive way during conflicts or challenges including advocating for himself when he needs a break or adult support to solve a problem.'), Comments(student_id='13', comments='Cole has had a great start to his school year. Cole is a kind, focused, and responsible student who has made good academic progress and has a very positive attitude towards learning. Cole has very good work habits including getting started right away and fully completing his work jobs. Cole has positive relationships with his classmates and is helpful to others, is kind and inclusive to all. He works well with everyone. In the next term, Cole is encouraged to challenge himself by gradually extending the amount of work he does with each task, such as writing a little bit more, or solving one more math problem, so that he can continue pushing his learning further.'), Comments(student_id='15', comments='Taylor has had a good start to her school year. Taylor is a kind, focused, and hard-working student who has made good academic progress and has a positive attitude towards learning. Taylor has good work habits including asking for help or clarification and fully completing her learning jobs. Taylor has positive relationships with her classmates and is helpful to others. She is kind to others and works well with everyone. In the next term, Taylor can continue to share on-topic thinking with the class during learning conversations and seek out leadership opportunities in the class.'), Comments(student_id='14', comments=\"Mason has settled into class and has had a good start to his year. Mason is an eager, thoughtful, and helpful student who has made some academic progress and usually has a positive attitude towards learning. Mason has some good work habits including asking for help or clarification and feeling proud of his work. Mason has positive connections with his classmates and enjoys working and playing with others. Mason's goal is to continue to build his stamina for academic work by persevering with non-preferred or more challenging learning jobs, and to continue using strategies to effectively manage his emotions at school such as taking a break or asking for adult support.\"), Comments(student_id='16', comments='Alexa has had a good start to her school year. Alexa is a hard-working, creative, and eager student who has made good academic progress and has a positive attitude towards learning this term. Alexa has good work habits including completing her learning jobs and feeling proud of her work. Alexa has made positive connections with her classmates and works well with others. In the next term, Alexa can continue to share on-topic thinking with the class during learning conversations more frequently.'), Comments(student_id='17', comments='Evie has had a great start to her school year. Evie is a focused, thoughtful, and responsible student who has made good academic progress and has a very positive attitude towards learning. Evie has very good work habits including getting started right away and completing her learning jobs. Evie has positive relationships with her classmates and is helpful to others. She is kind and inclusive to all and works well with everyone. In the next term, Evie can focus on sharing her thinking more often during class conversations and learning times.'), Comments(student_id='20', comments='Kaylie has had a great start to her school year. Kaylie is a hard-working, respectful, and kind student who has made good academic progress and has a very positive attitude towards learning. Kaylie has good work habits including asking for help or clarification if she is unsure and getting started right away. Kaylie has positive relationships with her classmates and is helpful to others. She is kind and inclusive to all and works well with everyone. In the next term Kaylie can focus on sharing her thinking more often during class conversations and learning times.'), Comments(student_id='19', comments='Armelle has had a great start to her school year. Armelle is a kind, responsible, and hard-working student who has made good academic progress and has a very positive attitude towards learning. Armelle has very good work habits including fully completing her learning jobs and getting started right away. Armelle has positive relationships with her classmates and is helpful to others, is kind and inclusive to all. She works well with everyone. In the next term, Armelle can continue to share on-topic thinking with the class during learning conversations and seek out leadership opportunities in the class.'), Comments(student_id='18', comments='Carter has had a good start to his school year. Carter is a playful, kind, and curious student who has made good academic progress and has a positive attitude towards learning this term. Carter has good work habits such as getting started right away and asking for help or clarification if he is unsure. Carter has good relationships with his classmates and enjoys working and playing with others. In the next term, Carter should focus on completing his good academic work more neatly and with care so that his audience can appreciate his ideas, and practice strategies to focus during learning times including choosing to sit away from friends at the carpet so he is not distracted and is not distracting others.'), Comments(student_id='21', comments='Makena has had a good start to her school year. Makena is a thoughtful, creative, and kind student who has made good academic progress and has a positive attitude towards learning. Makena has good work habits including feeling proud of her work and sharing her thoughts during learning conversations. Makena has made positive connections with her classmates and is kind and inclusive to others. She works well with everyone. In the next term, Makena should focus on asking for help earlier if she is unsure or needing assistance with learning jobs so that she can continue to complete her work and learn effectively.'), Comments(student_id='22', comments='Bash has had a good start to his school year. Bash is a thoughtful, respectful, and hard-working student who has a positive attitude towards learning and has made good academic progress this term. Bash has good work habits including getting started right away and completing his learning jobs. Bash has positive relationships with his classmates and is helpful to others. He is kind to others and works well with everyone. In the next term, Bash can focus on sharing his thinking more often during class conversations and learning times.')]\n"
     ]
    }
   ],
   "execution_count": 39
  },
  {
   "metadata": {
    "ExecuteTime": {
     "end_time": "2024-12-12T01:54:31.774383Z",
     "start_time": "2024-12-12T01:54:31.769244Z"
    }
   },
   "cell_type": "code",
   "source": [
    "import pandas as pd\n",
    "\n",
    "def write_comments_to_csv(comments: List[Comments], output_path: str):\n",
    "    \"\"\"\n",
    "    Write processed comments to a CSV file\n",
    "    \n",
    "    Args:\n",
    "        comments: List of Comments objects\n",
    "        output_path: Path where CSV will be saved\n",
    "    \"\"\"\n",
    "    # Convert list of Comments objects to DataFrame\n",
    "    df = pd.DataFrame(\n",
    "        [\n",
    "            {\n",
    "                'student_id': c.student_id,\n",
    "                'comments': c.comments\n",
    "            } for c in comments\n",
    "        ]\n",
    "    )\n",
    "    \n",
    "    # Write to CSV\n",
    "    df.to_csv(output_path, index=False)\n"
   ],
   "id": "df0a3ec1452f92b0",
   "outputs": [],
   "execution_count": 27
  },
  {
   "metadata": {
    "ExecuteTime": {
     "end_time": "2024-12-12T03:29:38.701810Z",
     "start_time": "2024-12-12T03:29:38.695802Z"
    }
   },
   "cell_type": "code",
   "source": [
    "csv_output_path = \"C:\\\\users\\\\Sean Jackman\\\\downloads\\\\opening_comments.csv\"\n",
    "write_comments_to_csv(results, csv_output_path)"
   ],
   "id": "9b81997c4766b397",
   "outputs": [],
   "execution_count": 40
  },
  {
   "metadata": {},
   "cell_type": "code",
   "outputs": [],
   "execution_count": null,
   "source": "",
   "id": "86bb94bf74b028b0"
  }
 ],
 "metadata": {
  "kernelspec": {
   "display_name": "Python 3",
   "language": "python",
   "name": "python3"
  },
  "language_info": {
   "codemirror_mode": {
    "name": "ipython",
    "version": 2
   },
   "file_extension": ".py",
   "mimetype": "text/x-python",
   "name": "python",
   "nbconvert_exporter": "python",
   "pygments_lexer": "ipython2",
   "version": "2.7.6"
  }
 },
 "nbformat": 4,
 "nbformat_minor": 5
}
